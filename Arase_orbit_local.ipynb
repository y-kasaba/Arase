{
 "cells": [
  {
   "cell_type": "markdown",
   "metadata": {},
   "source": [
    "# Arase orbit - Direct read from local: 2024/2/27"
   ]
  },
  {
   "cell_type": "code",
   "execution_count": null,
   "metadata": {},
   "outputs": [],
   "source": [
    "import pyspedas\n",
    "import pytplot\n",
    "import numpy as np\n",
    "import matplotlib.pyplot as plt\n",
    "import pandas as pd\n",
    "\n",
    "# from pytplot import tplot, cdf_to_tplot, data_quants, split_vec\n",
    "import os\n",
    "import urllib.request\n",
    "import xarray as xr\n",
    "import requests\n",
    "from bs4 import BeautifulSoup"
   ]
  },
  {
   "cell_type": "markdown",
   "metadata": {},
   "source": [
    "# Plot date & mode"
   ]
  },
  {
   "cell_type": "code",
   "execution_count": null,
   "metadata": {},
   "outputs": [],
   "source": [
    "# Mode\n",
    "mode_geometry = 0          # 0: SM (L, MLat, MLT)    1: GSE\n",
    "\n",
    "# Date\n",
    "year  = '2024'\n",
    "month = '08'\n",
    "day   = '20'\n",
    "\n",
    "# Data folder\n",
    "download_folder = f'/Users/user/OneDrive-Univ/data/data-Arase/erg_data/satellite/erg/orb/lpre/{year}/'"
   ]
  },
  {
   "cell_type": "markdown",
   "metadata": {},
   "source": [
    "## Direct download"
   ]
  },
  {
   "cell_type": "code",
   "execution_count": null,
   "metadata": {},
   "outputs": [],
   "source": [
    "# Direct read case\n",
    "\"\"\"\n",
    "# Original data directory (Long Predict Orbit)\n",
    "url = f'https://ergsc.isee.nagoya-u.ac.jp/data/ergsc/satellite/erg/orb/lpre/{year}/'\n",
    "response = requests.get(url)\n",
    "soup = BeautifulSoup(response.text, 'html.parser')\n",
    "\n",
    "# Orbit folder\n",
    "if not os.path.exists(download_folder):\n",
    "    os.makedirs(download_folder)\n",
    "\n",
    "# Download\n",
    "for link in soup.find_all('a'):\n",
    "    href = link.get('href')\n",
    "    if href and year + month + day in href:\n",
    "        download_url = url + href\n",
    "        download_path = os.path.join(download_folder, href)\n",
    "\n",
    "        print(f'Downloading {download_url} to {download_path}')\n",
    "        with requests.get(download_url, stream=True) as r:\n",
    "            with open(download_path, 'wb') as f:\n",
    "                for chunk in r.iter_content(chunk_size=8192):\n",
    "                    f.write(chunk)\n",
    "\"\"\""
   ]
  },
  {
   "cell_type": "markdown",
   "metadata": {},
   "source": [
    "## Direct read"
   ]
  },
  {
   "cell_type": "code",
   "execution_count": null,
   "metadata": {},
   "outputs": [],
   "source": [
    "# Direct read\n",
    "local_repository_data_path = download_folder+'/erg_orb_lpre_l2_{}{}{}_v02.cdf'.format(year, month, day)\n",
    "pytplot.cdf_to_tplot(local_repository_data_path)"
   ]
  },
  {
   "cell_type": "markdown",
   "metadata": {},
   "source": [
    "# Plot"
   ]
  },
  {
   "cell_type": "code",
   "execution_count": null,
   "metadata": {},
   "outputs": [],
   "source": [
    "# GSE \n",
    "pytplot.split_vec('pos_gse')\n",
    "x_gse = pytplot.data_quants['pos_gse_x']\n",
    "y_gse = pytplot.data_quants['pos_gse_y']\n",
    "z_gse = pytplot.data_quants['pos_gse_y']\n",
    "\n",
    "###　一時間ごとに色分けしてプロットする　必要ない場合はx_gseとy_gseのみをプロットしてください　###\n",
    "# xarrayのインデックスをDatetime64形式に変換\n",
    "x_gse['time'] = pd.to_datetime(x_gse['time'].values)"
   ]
  },
  {
   "cell_type": "code",
   "execution_count": null,
   "metadata": {},
   "outputs": [],
   "source": [
    "# Event time def\n",
    "start_time = pd.Timestamp('2024-08-20 20:00:00')\n",
    "mid1_time = pd.Timestamp('2024-08-20 21:00:00')\n",
    "mid2_time = pd.Timestamp('2024-08-20 22:00:00')\n",
    "mid3_time = pd.Timestamp('2024-08-20 23:00:00')\n",
    "end_time = pd.Timestamp('2024-08-20 23:59:00')\n",
    "\n",
    "# Event data pick up\n",
    "x_20_21 = x_gse.sel(time=slice(start_time, mid1_time)); x_21_22 = x_gse.sel(time=slice(mid1_time, mid2_time))\n",
    "x_22_23 = x_gse.sel(time=slice(mid2_time, mid3_time));  x_23_24 = x_gse.sel(time=slice(mid3_time, end_time))\n",
    "y_20_21 = y_gse.sel(time=slice(start_time, mid1_time)); y_21_22 = y_gse.sel(time=slice(mid1_time, mid2_time))\n",
    "y_22_23 = y_gse.sel(time=slice(mid2_time, mid3_time));  y_23_24 = y_gse.sel(time=slice(mid3_time, end_time)) "
   ]
  },
  {
   "cell_type": "code",
   "execution_count": null,
   "metadata": {},
   "outputs": [],
   "source": [
    "plt.figure(figsize=(5, 5))\n",
    "\n",
    "# Axis\n",
    "plt.xlim([6, -6]);  plt.ylim([6, -6])\n",
    "plt.xlabel('Xgse [Re]', fontsize=16); plt.ylabel('Ygse [Re]', fontsize=16)\n",
    "\n",
    "# plot\n",
    "plt.plot(x_gse, y_gse, linewidth=1, color='black', linestyle='--', alpha=0.5, label='Arase')\n",
    "plt.plot(x_20_21, y_20_21, linewidth=2, color=plt.cm.viridis(1/4), label='UT20-21', linestyle='-')\n",
    "plt.plot(x_21_22, y_21_22, linewidth=2, color=plt.cm.viridis(2/4), label='UT21-22', linestyle='-')\n",
    "plt.plot(x_22_23, y_22_23, linewidth=2, color=plt.cm.viridis(3/4), label='UT22-23', linestyle='-')\n",
    "plt.plot(x_23_24, y_23_24, linewidth=2, color=plt.cm.viridis(4/4), label='UT23-24', linestyle='-') \n",
    "plt.legend(loc='lower right', fontsize=10)\n",
    "\n",
    "# Earth\n",
    "circle = plt.Circle((0, 0), 1, fill=False, color='black', linewidth=2)\n",
    "plt.gca().add_patch(circle)\n",
    "\n",
    "# Title\n",
    "title_label = 'Arase ({}/{}/{})'.format(year, month, day)\n",
    "plt.title(title_label)\n",
    "\n",
    "# Grid\n",
    "plt.grid(True)\n",
    "\n",
    "plt.show()"
   ]
  }
 ],
 "metadata": {
  "kernelspec": {
   "display_name": "3.10s",
   "language": "python",
   "name": "python3"
  },
  "language_info": {
   "codemirror_mode": {
    "name": "ipython",
    "version": 3
   },
   "file_extension": ".py",
   "mimetype": "text/x-python",
   "name": "python",
   "nbconvert_exporter": "python",
   "pygments_lexer": "ipython3",
   "version": "3.10.13"
  }
 },
 "nbformat": 4,
 "nbformat_minor": 2
}
