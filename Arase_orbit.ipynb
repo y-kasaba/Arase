{
 "cells": [
  {
   "cell_type": "markdown",
   "metadata": {},
   "source": [
    "# Arase orbit - Remote read from Arase Sci Center: 2024/2/27"
   ]
  },
  {
   "cell_type": "code",
   "execution_count": null,
   "metadata": {},
   "outputs": [],
   "source": [
    "import pyspedas\n",
    "import pytplot\n",
    "import numpy as np\n",
    "import matplotlib.pyplot as plt\n",
    "import pandas as pd"
   ]
  },
  {
   "cell_type": "markdown",
   "metadata": {},
   "source": [
    "# Plot date & mode"
   ]
  },
  {
   "cell_type": "code",
   "execution_count": null,
   "metadata": {},
   "outputs": [],
   "source": [
    "# Date\n",
    "tr = ['2024-08-19', '2024-08-22']\n",
    "start_time = pd.Timestamp('2024-08-20 21:30:00')\n",
    "end_time   = pd.Timestamp('2024-08-20 22:00:00')\n",
    "\n",
    "# Mode\n",
    "mode_geometry = 0          # 0: SM (L, MLat, MLT)    1: GSE\n",
    "\"\"\"\n",
    "mode_orb = 'def'           # 0: 'def'   1: 'pre'   2: 'spre'  3: 'mpre'  4: 'lpre'\n",
    "mode_orb = 'pre'           # 0: 'def'   1: 'pre'   2: 'spre'  3: 'mpre'  4: 'lpre'\n",
    "mode_orb = 'spre'          # 0: 'def'   1: 'pre'   2: 'spre'  3: 'mpre'  4: 'lpre'\n",
    "mode_orb = 'mpre'          # 0: 'def'   1: 'pre'   2: 'spre'  3: 'mpre'  4: 'lpre'\n",
    "\"\"\"\n",
    "mode_orb = 'lpre'          # 0: 'def'   1: 'pre'   2: 'spre'  3: 'mpre'  4: 'lpre'\n",
    "\n",
    "# pyspedas.erg.orb( trange=tr )\n",
    "pyspedas.erg.orb( trange=tr, datatype=mode_orb )"
   ]
  },
  {
   "cell_type": "markdown",
   "metadata": {},
   "source": [
    "## Geometry"
   ]
  },
  {
   "cell_type": "code",
   "execution_count": null,
   "metadata": {},
   "outputs": [],
   "source": [
    "if mode_geometry == 0:\n",
    "    # L, Mlat, MLT:  rmalatmlt  -->   _x, _y, _z   -->  L, MLAT, MLT\n",
    "    # SM (Solar Magnetic):  Z - magnetic pole, Y: dusk\n",
    "    if mode_orb == 'def':\n",
    "        pytplot.split_vec('erg_orb_l2_pos_rmlatmlt')\n",
    "        L = pytplot.data_quants['erg_orb_l2_pos_rmlatmlt_x']\n",
    "        MLat = pytplot.data_quants['erg_orb_l2_pos_rmlatmlt_y'] / 180 * np.pi\n",
    "        MLT = pytplot.data_quants['erg_orb_l2_pos_rmlatmlt_z'] * 15 / 180 * np.pi\n",
    "        x = pytplot.data_quants['erg_orb_l2_pos_sm'][:,0]\n",
    "        y = pytplot.data_quants['erg_orb_l2_pos_sm'][:,1]\n",
    "        z = pytplot.data_quants['erg_orb_l2_pos_sm'][:,2]\n",
    "    elif mode_orb == 'pre':\n",
    "        pytplot.split_vec('erg_orb_pre_l2_pos_rmlatmlt')\n",
    "        L = pytplot.data_quants['erg_orb_pre_l2_pos_rmlatmlt_x']\n",
    "        MLat = pytplot.data_quants['erg_orb_pre_l2_pos_rmlatmlt_y'] / 180 * np.pi\n",
    "        MLT = pytplot.data_quants['erg_orb_pre_l2_pos_rmlatmlt_z'] * 15 / 180 * np.pi\n",
    "        x = pytplot.data_quants['erg_orb_pre_l2_pos_sm'][:,0]\n",
    "        y = pytplot.data_quants['erg_orb_pre_l2_pos_sm'][:,1]\n",
    "        z = pytplot.data_quants['erg_orb_pre_l2_pos_sm'][:,2]\n",
    "    elif mode_orb == 'spre':\n",
    "        pytplot.split_vec('erg_orb_spre_l2_pos_rmlatmlt')\n",
    "        L = pytplot.data_quants['erg_orb_spre_l2_pos_rmlatmlt_x']\n",
    "        MLat = pytplot.data_quants['erg_orb_spre_l2_pos_rmlatmlt_y'] / 180 * np.pi\n",
    "        MLT = pytplot.data_quants['erg_orb_spre_l2_pos_rmlatmlt_z'] * 15 / 180 * np.pi\n",
    "        x = pytplot.data_quants['erg_orb_spre_l2_pos_sm'][:,0]\n",
    "        y = pytplot.data_quants['erg_orb_spre_l2_pos_sm'][:,1]\n",
    "        z = pytplot.data_quants['erg_orb_spre_l2_pos_sm'][:,2]\n",
    "    elif mode_orb == 'mpre':\n",
    "        pytplot.split_vec('erg_orb_mpre_l2_pos_rmlatmlt')\n",
    "        L = pytplot.data_quants['erg_orb_mpre_l2_pos_rmlatmlt_x']\n",
    "        MLat = pytplot.data_quants['erg_orb_mpre_l2_pos_rmlatmlt_y'] / 180 * np.pi\n",
    "        MLT = pytplot.data_quants['erg_orb_mpre_l2_pos_rmlatmlt_z'] * 15 / 180 * np.pi\n",
    "        x = pytplot.data_quants['erg_orb_mpre_l2_pos_sm'][:,0]\n",
    "        y = pytplot.data_quants['erg_orb_mpre_l2_pos_sm'][:,1]\n",
    "        z = pytplot.data_quants['erg_orb_mpre_l2_pos_sm'][:,2]\n",
    "    elif mode_orb == 'lpre':\n",
    "        pytplot.split_vec('erg_orb_lpre_l2_pos_rmlatmlt')\n",
    "        L = pytplot.data_quants['erg_orb_lpre_l2_pos_rmlatmlt_x']\n",
    "        MLat = pytplot.data_quants['erg_orb_lpre_l2_pos_rmlatmlt_y'] / 180 * np.pi\n",
    "        MLT = pytplot.data_quants['erg_orb_lpre_l2_pos_rmlatmlt_z'] * 15 / 180 * np.pi\n",
    "        x = pytplot.data_quants['erg_orb_lpre_l2_pos_sm'][:,0]\n",
    "        y = pytplot.data_quants['erg_orb_lpre_l2_pos_sm'][:,1]\n",
    "        z = pytplot.data_quants['erg_orb_lpre_l2_pos_sm'][:,2]\n",
    "\n",
    "else: \n",
    "    # GSE (Geocentric solar ecliptic): X - Sun, Z - perpendicular to Earth's orbit\n",
    "    if mode_orb == 'def':\n",
    "        x = pytplot.data_quants['erg_orb_l2_pos_gse'][:,0]\n",
    "        y = pytplot.data_quants['erg_orb_l2_pos_gse'][:,1]\n",
    "        z = pytplot.data_quants['erg_orb_l2_pos_gse'][:,2]\n",
    "    elif mode_orb == 'pre':\n",
    "        x = pytplot.data_quants['erg_orb_pre_l2_pos_gse'][:,0]\n",
    "        y = pytplot.data_quants['erg_orb_pre_l2_pos_gse'][:,1]\n",
    "        z = pytplot.data_quants['erg_orb_pre_l2_pos_gse'][:,2]\n",
    "    elif mode_orb == 'spre':\n",
    "        x = pytplot.data_quants['erg_orb_spre_l2_pos_gse'][:,0]\n",
    "        y = pytplot.data_quants['erg_orb_spre_l2_pos_gse'][:,1]\n",
    "        z = pytplot.data_quants['erg_orb_spre_l2_pos_gse'][:,2]\n",
    "    elif mode_orb == 'mpre':\n",
    "        x = pytplot.data_quants['erg_orb_mpre_l2_pos_gse'][:,0]\n",
    "        y = pytplot.data_quants['erg_orb_mpre_l2_pos_gse'][:,1]\n",
    "        z = pytplot.data_quants['erg_orb_mpre_l2_pos_gse'][:,2]\n",
    "    elif mode_orb == 'lpre':\n",
    "        x = pytplot.data_quants['erg_orb_lpre_l2_pos_gse'][:,0]\n",
    "        y = pytplot.data_quants['erg_orb_lpre_l2_pos_gse'][:,1]\n",
    "        z = pytplot.data_quants['erg_orb_lpre_l2_pos_gse'][:,2]"
   ]
  },
  {
   "cell_type": "markdown",
   "metadata": {},
   "source": [
    "### Event set"
   ]
  },
  {
   "cell_type": "code",
   "execution_count": null,
   "metadata": {},
   "outputs": [],
   "source": [
    "# import xarray as xr\n",
    "# xarray index:  Conversion to \"Datetime64\"\n",
    "# x['time'] = pd.to_datetime(x['time'].values)\n",
    "if mode_geometry == 0:\n",
    "    L_event    =    L.sel(time=slice(start_time, end_time))\n",
    "    MLat_event = MLat.sel(time=slice(start_time, end_time))\n",
    "    MLT_event  =  MLT.sel(time=slice(start_time, end_time))\n",
    "x_event = x.sel(time=slice(start_time, end_time))\n",
    "y_event = y.sel(time=slice(start_time, end_time))"
   ]
  },
  {
   "cell_type": "markdown",
   "metadata": {},
   "source": [
    "## X-Y plot"
   ]
  },
  {
   "cell_type": "code",
   "execution_count": null,
   "metadata": {},
   "outputs": [],
   "source": [
    "plt.figure(figsize=(5, 5))\n",
    "\n",
    "# Axis\n",
    "plt.xlim([6, -6]);  plt.ylim([6, -6])\n",
    "if mode_geometry == 0:\n",
    "    plt.xlabel('Xsm [Re]', fontsize=16);  plt.ylabel('Ysm [Re]', fontsize=16)\n",
    "else:\n",
    "    plt.xlabel('Xgse [Re]', fontsize=16); plt.ylabel('Ygse [Re]', fontsize=16)\n",
    "\n",
    "# plot\n",
    "plt.plot(x,       y,       linewidth=1, color='black', linestyle='--', alpha=0.5, label='Arase')\n",
    "plt.plot(x_event, y_event, linewidth=2, color='red',   label='event', linestyle='-')\n",
    "plt.legend(loc='lower right', fontsize=10)\n",
    "\n",
    "# Earth\n",
    "circle = plt.Circle((0, 0), 1, fill=False, color='black', linewidth=2)\n",
    "plt.gca().add_patch(circle)\n",
    "\n",
    "# Title\n",
    "title_label = 'Arase [' + tr[0] + ' - ' + tr[1] + ']'\n",
    "plt.title(title_label)\n",
    "\n",
    "# Grid\n",
    "plt.grid(True)\n",
    "\n",
    "plt.show()"
   ]
  },
  {
   "cell_type": "markdown",
   "metadata": {},
   "source": [
    "## MLT-L plot"
   ]
  },
  {
   "cell_type": "code",
   "execution_count": null,
   "metadata": {},
   "outputs": [],
   "source": [
    "if mode_geometry == 0:\n",
    "    fig = plt.figure(figsize=(5,5))\n",
    "    ax = fig.add_subplot(111, projection='polar')\n",
    "\n",
    "    # plot\n",
    "    #ax.plot(MLT,       L*np.cos(MLat), linewidth=1, color='black', linestyle='--', alpha=0.5, label='Arase')\n",
    "    #ax.plot(MLT_event, L_event*np.cos(MLat_event), linewidth=2, color='red', label='event', linestyle='-')\n",
    "    ax.plot(MLT,       L,       linewidth=1, color='black', linestyle='--', alpha=0.5, label='Arase')\n",
    "    ax.plot(MLT_event, L_event, linewidth=2, color='red', label='event', linestyle='-')\n",
    "    plt.legend(loc='lower right', fontsize=10)\n",
    "\n",
    "    ax.set_theta_zero_location('N')\n",
    "    step = 30;  custom_angles = list(range(0, 331, step));  ax.set_xticks(np.deg2rad(custom_angles))\n",
    "    custom_labels = [str(i*2) for i in range(12)];          ax.set_xticklabels(custom_labels)\n",
    "    ax.set_yticks(list(range(1, 7)));                       ax.set_yticklabels(['1', '2', '3', '4', '5', '6 [Re]'], )\n",
    "\n",
    "    # Title\n",
    "    title_label = 'Arase [' + tr[0] + ' - ' + tr[1] + ']'\n",
    "    plt.title(title_label)\n",
    "\n",
    "    plt.show()"
   ]
  }
 ],
 "metadata": {
  "kernelspec": {
   "display_name": "3.10s",
   "language": "python",
   "name": "python3"
  },
  "language_info": {
   "codemirror_mode": {
    "name": "ipython",
    "version": 3
   },
   "file_extension": ".py",
   "mimetype": "text/x-python",
   "name": "python",
   "nbconvert_exporter": "python",
   "pygments_lexer": "ipython3",
   "version": "3.10.13"
  }
 },
 "nbformat": 4,
 "nbformat_minor": 2
}
